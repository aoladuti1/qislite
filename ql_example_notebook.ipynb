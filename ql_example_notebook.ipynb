{
 "cells": [
  {
   "cell_type": "code",
   "execution_count": null,
   "id": "6bec3ce3-aeea-4783-ab96-f7762280f8f1",
   "metadata": {},
   "outputs": [],
   "source": [
    "from qislite import *"
   ]
  },
  {
   "cell_type": "code",
   "execution_count": null,
   "id": "f7098d58-29f7-4fe4-a93b-cf01c658e180",
   "metadata": {},
   "outputs": [],
   "source": [
    "# Setup a circuit and create a Bell plus state where qubits X, Y are measured into bits A, B\n",
    "X = QuantumRegister(1, \"X\")\n",
    "Y = QuantumRegister(1, \"Y\")\n",
    "A = ClassicalRegister(1, \"A\")\n",
    "B = ClassicalRegister(1, \"B\")\n",
    "circuit = QuantumCircuit(Y, X, B, A)\n",
    "circuit.h(Y)\n",
    "circuit.cx(Y, X)\n",
    "multi_measure(circuit, (Y, B), (X, A)) # == circuit.measure_all()\n",
    "pass"
   ]
  },
  {
   "cell_type": "code",
   "execution_count": null,
   "id": "93e63949-96e4-42e3-a65b-2a923a4b40a3",
   "metadata": {},
   "outputs": [],
   "source": [
    "# Get the counts of each state after 1024 runs\n",
    "results = get_all_counts(run_circuits(circuit))\n",
    "results"
   ]
  },
  {
   "cell_type": "code",
   "execution_count": null,
   "id": "9769c44a-ae7e-48e2-8a24-ab7d2611b739",
   "metadata": {},
   "outputs": [],
   "source": [
    "# Plot the state histograms\n",
    "plot_histograms(results)\n",
    "pass"
   ]
  }
 ],
 "metadata": {
  "kernelspec": {
   "display_name": "venv",
   "language": "python",
   "name": "python3"
  },
  "language_info": {
   "codemirror_mode": {
    "name": "ipython",
    "version": 3
   },
   "file_extension": ".py",
   "mimetype": "text/x-python",
   "name": "python",
   "nbconvert_exporter": "python",
   "pygments_lexer": "ipython3",
   "version": "3.12.7"
  }
 },
 "nbformat": 4,
 "nbformat_minor": 5
}
